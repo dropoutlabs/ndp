{
 "cells": [
  {
   "cell_type": "markdown",
   "metadata": {},
   "source": [
    "- Bellman's *curse of dimensionality* and *curse of modeling*\n",
    "\n",
    "- optimal cost over all remaining STAGES\n",
    "\n",
    "\\begin{aligned}\n",
    "J^* = \\min_{u} \\mathop{\\mathbb{E}} [ \\mathit{g(i, u, j)} + J^*(j) \\vert \\mathit{i, u} ] , \\text{for all } \\mathit{i},\n",
    "\\end{aligned}\n",
    "\n",
    "- computation of `J*` can be done OFFLINE\n",
    "    - training\n",
    "\n",
    "- suboptimal control at `i`\n",
    "\n",
    "\\begin{aligned}\n",
    "\\widetilde{\\mu}(i) = arg \\min_{u} \\mathop{\\mathbb{E}} [ \\mathit{g(i, u, j)} + \\widetilde{J}(j, r) \\vert \\mathit{i, u} ]\n",
    "\\end{aligned}\n",
    "\n",
    "- approximate cost-to-go\n",
    "\n",
    "    \\begin{aligned}\n",
    "    \\widetilde{J}(j, r) \n",
    "    \\end{aligned}\n",
    "\n",
    "    - `r` parameter vector \n",
    "    - form is known (\"approximating architecture\")\n",
    "        - neural net\n",
    "        \n",
    "- approximate Q-factor \n",
    "\n",
    "\\begin{aligned}\n",
    "Q*(i, u) = \\mathop{\\mathbb{E}} [ \\mathit{g(i, u, j)} + J^*(j) \\vert \\mathit{i, u} ]\n",
    "\\end{aligned}\n",
    "\n",
    "    - use at state `i` control that minimizes `Q`\n",
    "    \n",
    "- \"dominant nonlinearities\" in `J*`\n",
    "\n",
    "- simulation can identify \"most important\" / \"most representative\" states of system\n",
    "\n",
    "- Tes92\n",
    "\n"
   ]
  },
  {
   "cell_type": "code",
   "execution_count": null,
   "metadata": {
    "collapsed": true
   },
   "outputs": [],
   "source": []
  }
 ],
 "metadata": {
  "kernelspec": {
   "display_name": "Python 3",
   "language": "python",
   "name": "python3"
  },
  "language_info": {
   "codemirror_mode": {
    "name": "ipython",
    "version": 3
   },
   "file_extension": ".py",
   "mimetype": "text/x-python",
   "name": "python",
   "nbconvert_exporter": "python",
   "pygments_lexer": "ipython3",
   "version": "3.6.1"
  }
 },
 "nbformat": 4,
 "nbformat_minor": 2
}
